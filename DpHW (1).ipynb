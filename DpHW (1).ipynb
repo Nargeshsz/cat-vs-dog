{
  "nbformat": 4,
  "nbformat_minor": 0,
  "metadata": {
    "colab": {
      "provenance": []
    },
    "kernelspec": {
      "name": "python3",
      "display_name": "Python 3"
    },
    "language_info": {
      "name": "python"
    }
  },
  "cells": [
    {
      "cell_type": "code",
      "execution_count": null,
      "metadata": {
        "id": "wEZiTX0DCe4c"
      },
      "outputs": [],
      "source": [
        "import tensorflow as tf"
      ]
    },
    {
      "cell_type": "code",
      "source": [
        "!pip install -q keras"
      ],
      "metadata": {
        "id": "B9tc5Rn4Cm7a"
      },
      "execution_count": null,
      "outputs": []
    },
    {
      "cell_type": "code",
      "source": [
        "!wget https://download.microsoft.com/download/3/E/1/3E1C3F21-ECDB-4869-8368-6DEBA77B919F/kagglecatsanddogs_3367a.zip\n",
        "!unzip kagglecatsanddogs_3367a.zip\n",
        "!mv PetImages train\n",
        "!find train/Cat -size  0 -print0 |xargs -0 rm --\n",
        "!find train/Dog -size  0 -print0 |xargs -0 rm --"
      ],
      "metadata": {
        "id": "m7P6Wz55Cyyu"
      },
      "execution_count": null,
      "outputs": []
    },
    {
      "cell_type": "code",
      "source": [
        "from glob import glob\n",
        "from sklearn.model_selection import train_test_split\n",
        "\n",
        "cats = glob('train/Cat/*.jpg')\n",
        "dogs = glob('train/Dog/*.jpg')\n",
        "\n",
        "cats_train, cats_test = train_test_split(cats, test_size=0.30)\n",
        "dogs_train, dogs_test = train_test_split(dogs, test_size=0.30)\n",
        "\n",
        "TRAIN_DIR = 'train'\n",
        "TEST_DIR = 'test'\n",
        "\n",
        "!mkdir test\n",
        "\n",
        "!mkdir test/Cat\n",
        "files = ' '.join(cats_test)\n",
        "!mv -t test/Cat $files\n",
        "\n",
        "!mkdir test/Dog\n",
        "files = ' '.join(dogs_test)\n",
        "!mv -t test/Dog $files"
      ],
      "metadata": {
        "id": "8i3_o-XBC0SQ"
      },
      "execution_count": null,
      "outputs": []
    },
    {
      "cell_type": "code",
      "source": [
        "import numpy as np\n",
        "from PIL import Image\n",
        "import matplotlib.pyplot as plt\n",
        "\n",
        "cats = np.random.choice(cats_train, 13)\n",
        "dogs = np.random.choice(dogs_train, 12)\n",
        "data = np.concatenate((cats, dogs))\n",
        "labels = 13 * ['Cat'] + 12 *['Dog']\n",
        "\n",
        "N, R, C = 25, 5, 5\n",
        "plt.figure(figsize=(12, 9))\n",
        "for k, (src, label) in enumerate(zip(data, labels)):\n",
        "    im = Image.open(src).convert('RGB')\n",
        "    plt.subplot(R, C, k+1)\n",
        "    plt.title(label)\n",
        "    plt.imshow(np.asarray(im))\n",
        "    plt.axis('off')"
      ],
      "metadata": {
        "id": "MNINpcNZC4lu"
      },
      "execution_count": null,
      "outputs": []
    },
    {
      "cell_type": "code",
      "source": [
        "from keras.preprocessing.image import ImageDataGenerator\n",
        "\n",
        "WIDTH = 299\n",
        "HEIGHT = 299\n",
        "BATCH_SIZE = 32\n",
        "\n",
        "# data prep\n",
        "train_datagen = ImageDataGenerator(\n",
        "    preprocessing_function=preprocess_input,\n",
        "    rotation_range=40,\n",
        "    width_shift_range=0.2,\n",
        "    height_shift_range=0.2,\n",
        "    shear_range=0.2,\n",
        "    zoom_range=0.2,\n",
        "    horizontal_flip=True,\n",
        "    fill_mode='nearest')\n",
        "\n",
        "validation_datagen = ImageDataGenerator(\n",
        "    preprocessing_function=preprocess_input,\n",
        "    rotation_range=40,\n",
        "    width_shift_range=0.2,\n",
        "    height_shift_range=0.2,\n",
        "    shear_range=0.2,\n",
        "    zoom_range=0.2,\n",
        "    horizontal_flip=True,\n",
        "    fill_mode='nearest')\n",
        "\n",
        "train_generator = train_datagen.flow_from_directory(\n",
        "    TRAIN_DIR,\n",
        "    target_size=(HEIGHT, WIDTH),\n",
        "\t\tbatch_size=BATCH_SIZE,\n",
        "\t\tclass_mode='categorical')\n",
        "\n",
        "validation_generator = validation_datagen.flow_from_directory(\n",
        "    TEST_DIR,\n",
        "    target_size=(HEIGHT, WIDTH),\n",
        "    batch_size=BATCH_SIZE,\n",
        "    class_mode='categorical')"
      ],
      "metadata": {
        "id": "zxxksVoTDOyG"
      },
      "execution_count": null,
      "outputs": []
    },
    {
      "cell_type": "code",
      "source": [
        "x_batch, y_batch = next(train_generator)\n",
        "\n",
        "plt.figure(figsize=(12, 9))\n",
        "for k, (img, lbl) in enumerate(zip(x_batch, y_batch)):\n",
        "    plt.subplot(4, 8, k+1)\n",
        "    plt.imshow((img + 1) / 2)\n",
        "    plt.axis('off')"
      ],
      "metadata": {
        "id": "hViaAUuGDeXj"
      },
      "execution_count": null,
      "outputs": []
    },
    {
      "cell_type": "code",
      "source": [
        "EPOCHS = 5\n",
        "BATCH_SIZE = 32\n",
        "STEPS_PER_EPOCH = 320\n",
        "VALIDATION_STEPS = 64\n",
        "\n",
        "MODEL_FILE = 'filename.model'\n",
        "\n",
        "history = model.fit_generator(\n",
        "    train_generator,\n",
        "    epochs=EPOCHS,\n",
        "    steps_per_epoch=STEPS_PER_EPOCH,\n",
        "    validation_data=validation_generator,\n",
        "    validation_steps=VALIDATION_STEPS)\n",
        "\n",
        "model.save(MODEL_FILE)"
      ],
      "metadata": {
        "id": "m-G0fl5BDhs8"
      },
      "execution_count": null,
      "outputs": []
    },
    {
      "cell_type": "code",
      "source": [
        "def plot_training(history):\n",
        "  acc = history.history['acc']\n",
        "  val_acc = history.history['val_acc']\n",
        "  loss = history.history['loss']\n",
        "  val_loss = history.history['val_loss']\n",
        "  epochs = range(len(acc))\n",
        "\n",
        "  plt.plot(epochs, acc, 'r.')\n",
        "  plt.plot(epochs, val_acc, 'r')\n",
        "  plt.title('Training and validation accuracy')\n",
        "\n",
        "  plt.figure()\n",
        "  plt.plot(epochs, loss, 'r.')\n",
        "  plt.plot(epochs, val_loss, 'r-')\n",
        "  plt.title('Training and validation loss')\n",
        "  plt.show()\n",
        "\n",
        "plot_training(history)"
      ],
      "metadata": {
        "id": "fWhd4mDFDmV2"
      },
      "execution_count": null,
      "outputs": []
    },
    {
      "cell_type": "code",
      "source": [
        "import numpy as np\n",
        "import matplotlib.pyplot as plt\n",
        "import matplotlib.gridspec as gridspec\n",
        "\n",
        "from keras.preprocessing import image\n",
        "from keras.models import load_model\n",
        "\n",
        "\n",
        "def predict(model, img):\n",
        "    x = image.img_to_array(img)\n",
        "    x = np.expand_dims(x, axis=0)\n",
        "    x = preprocess_input(x)\n",
        "    preds = model.predict(x)\n",
        "    return preds[0]\n",
        "\n",
        "\n",
        "def plot_preds(img, preds):\n",
        "    labels = (\"cat\", \"dog\")\n",
        "    gs = gridspec.GridSpec(2, 1, height_ratios=[4, 1])\n",
        "    plt.figure(figsize=(8,8))\n",
        "    plt.subplot(gs[0])\n",
        "    plt.imshow(np.asarray(img))\n",
        "    plt.subplot(gs[1])\n",
        "    plt.barh([0, 1], preds, alpha=0.5)\n",
        "    plt.yticks([0, 1], labels)\n",
        "    plt.xlabel('Probability')\n",
        "    plt.xlim(0, 1)\n",
        "    plt.tight_layout()"
      ],
      "metadata": {
        "id": "clZ6YunUDsBS"
      },
      "execution_count": null,
      "outputs": []
    },
    {
      "cell_type": "code",
      "source": [
        "model = load_model(MODEL_FILE)"
      ],
      "metadata": {
        "id": "2BDN_QVjDstF"
      },
      "execution_count": null,
      "outputs": []
    },
    {
      "cell_type": "code",
      "source": [
        "img = image.load_img('test/Dog/110.jpg', target_size=(HEIGHT, WIDTH))\n",
        "preds = predict(model, img)\n",
        "\n",
        "plot_preds(np.asarray(img), preds)\n",
        "preds"
      ],
      "metadata": {
        "id": "uJOBaQ33Dz4N"
      },
      "execution_count": null,
      "outputs": []
    }
  ]
}